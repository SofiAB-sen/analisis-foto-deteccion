{
 "cells": [
  {
   "cell_type": "code",
   "execution_count": 2,
   "metadata": {},
   "outputs": [],
   "source": [
    "\n",
    "import numpy as np\n",
    "import matplotlib.pyplot as plt\n",
    "import os\n",
    "import pandas as pd\n",
    "\n"
   ]
  },
  {
   "cell_type": "code",
   "execution_count": 1,
   "metadata": {},
   "outputs": [
    {
     "name": "stdout",
     "output_type": "stream",
     "text": [
      "Empty DataFrame\n",
      "Columns: []\n",
      "Index: []\n"
     ]
    }
   ],
   "source": [
    "#base_path = \"ruta/a/tu/repositorio/analisis-foto-deteccion\"\n",
    "\n",
    "carpetas = [\"20240903\", \"20240908\", \"20240909\"]\n",
    "\n",
    "datos = []\n",
    "\n",
    "for carpeta in carpetas:\n",
    "    #carpeta_path = os.path.join(base_path, carpeta)\n",
    "    for filename in os.listdir(carpeta):\n",
    "        if filename.endswith(\".jpg\"):\n",
    "            # Dividir el nombre del archivo en partes\n",
    "            partes = filename.split(\"_\")\n",
    "            \n",
    "            # Verificar si el tipo de imagen es \"ZT\" \n",
    "            tipo_imagen = partes[15]\n",
    "            if tipo_imagen == \"ZT\":\n",
    "                # Extraer los datos de la imagen\n",
    "                datos_imagen = {\n",
    "                    \"Codigo_Local_Operacion\": partes[0],\n",
    "                    \"Codigo_Equipo\": partes[1],\n",
    "                    \"Codigo_INMETRO\": partes[2],\n",
    "                    \"Fecha_Comprobacion_INMETRO\": partes[3],\n",
    "                    \"Codigo_OVD\": partes[4],\n",
    "                    \"Fecha_Comprobacion_OVD\": partes[5],\n",
    "                    \"Pista\": partes[6],\n",
    "                    \"Fecha_Paso_Vehicular\": partes[7],\n",
    "                    \"Hora_Paso_Vehicular\": partes[8],\n",
    "                    \"Secuencial_Imagen\": partes[9],\n",
    "                    \"Velocidad_Maxima\": partes[10],\n",
    "                    \"Velocidad_Maxima_Tolerada\": partes[11],\n",
    "                    \"Velocidad_Medida\": partes[12],\n",
    "                    \"Velocidad_Considerada\": partes[13],\n",
    "                    \"Tamaño_Vehiculo\": partes[14],\n",
    "                    \"Placa_Vehiculo\": partes[15],\n",
    "                    \"Tipo_Imagen\": partes[16],\n",
    "                    \"Tiempo_Ocupacion\": partes[17],\n",
    "                    \"Distancia_Vehiculo_Anterior\": partes[18],\n",
    "                    \"Cantidad_Ejes_Vehiculo\": partes[19],\n",
    "                    \"Codigo_Clasificacion_Vehiculo\": partes[20],\n",
    "                    \"Secuencial_Infraccion\": partes[21],\n",
    "                    \"Codigo_Infraccion_Vehiculo\": partes[22],\n",
    "                    \"Tiempo_Caracterizar_Inicio_Semaforo_Rojo\": partes[23],\n",
    "                    \"Tiempo_Avance_Rojo_Parada_Cebra\": partes[24],\n",
    "                    \"Tiempo_Caracterizar_Parada_Cebra\": partes[25],\n",
    "                    \"Tiempo_Parada_Vehiculo_Cebra\": partes[26],\n",
    "                    \"Path_Imagen\": os.path.join(carpeta, filename)\n",
    "                }\n",
    "                \n",
    "                datos.append(datos_imagen)\n",
    "\n",
    "df = pd.DataFrame(datos)\n",
    "print(df)\n",
    "\n",
    "df.to_csv(\"dataset_imagenes_ZT.csv\", index=False)\n"
   ]
  },
  {
   "cell_type": "code",
   "execution_count": null,
   "metadata": {},
   "outputs": [],
   "source": []
  }
 ],
 "metadata": {
  "kernelspec": {
   "display_name": "base",
   "language": "python",
   "name": "python3"
  },
  "language_info": {
   "codemirror_mode": {
    "name": "ipython",
    "version": 3
   },
   "file_extension": ".py",
   "mimetype": "text/x-python",
   "name": "python",
   "nbconvert_exporter": "python",
   "pygments_lexer": "ipython3",
   "version": "3.12.4"
  }
 },
 "nbformat": 4,
 "nbformat_minor": 2
}
